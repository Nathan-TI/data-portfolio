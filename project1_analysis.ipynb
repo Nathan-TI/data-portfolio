{
  "nbformat": 4,
  "nbformat_minor": 0,
  "metadata": {
    "colab": {
      "provenance": []
    },
    "kernelspec": {
      "name": "python3",
      "display_name": "Python 3"
    },
    "language_info": {
      "name": "python"
    }
  },
  "cells": [
    {
      "cell_type": "code",
      "execution_count": null,
      "metadata": {
        "id": "OW1R60VuHOVI"
      },
      "outputs": [],
      "source": [
        "# Project 1: Ethiopia Market Prices Analysis\n",
        "\n",
        "import pandas as pd\n",
        "import matplotlib.pyplot as plt\n",
        "import seaborn as sns\n",
        "\n",
        "# Load dataset\n",
        "df = pd.read_csv(\"project1_market_prices.csv\")\n",
        "\n",
        "# Preview\n",
        "print(df.head())\n",
        "\n",
        "# Convert Month to datetime\n",
        "df[\"Month\"] = pd.to_datetime(df[\"Month\"])\n",
        "\n",
        "# Average price by month\n",
        "monthly_avg = df.groupby(\"Month\")[\"Price_ETB_per_kg\"].mean().reset_index()\n",
        "\n",
        "# Plot: Average price over time\n",
        "plt.figure(figsize=(10, 6))\n",
        "sns.lineplot(data=monthly_avg, x=\"Month\", y=\"Price_ETB_per_kg\", marker=\"o\")\n",
        "plt.title(\"Average Commodity Price Over Time (ETB/kg)\")\n",
        "plt.xlabel(\"Month\")\n",
        "plt.ylabel(\"Price (ETB/kg)\")\n",
        "plt.grid(True)\n",
        "plt.tight_layout()\n",
        "plt.show()\n",
        "\n",
        "# Average price by commodity\n",
        "commodity_avg = df.groupby(\"Commodity\")[\"Price_ETB_per_kg\"].mean().reset_index()\n",
        "print(\"\\nAverage Price by Commodity:\\n\", commodity_avg)\n",
        "\n",
        "# Regional summary\n",
        "region_avg = df.groupby(\"Region\")[\"Price_ETB_per_kg\"].mean().sort_values(ascending=False)\n",
        "print(\"\\nAverage Price by Region:\\n\", region_avg)\n"
      ]
    }
  ]
}